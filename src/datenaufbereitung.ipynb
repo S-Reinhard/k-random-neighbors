{
 "cells": [
  {
   "cell_type": "code",
   "execution_count": null,
   "id": "e13b5423",
   "metadata": {},
   "outputs": [],
   "source": [
    "\n",
    "\n",
    "# Load the data from the file\n",
    "df = pd.read_csv('iris.data', header=None)\n",
    "\n",
    "# Encode plant names as numbers\n",
    "le = LabelEncoder()\n",
    "df[4] = le.fit_transform(df[4])\n",
    "\n",
    "# Save as CSV\n",
    "df.to_csv('iris_numeric.csv', header=False, index=False)\n",
    "\n"
   ]
  },
  {
   "cell_type": "code",
   "execution_count": null,
   "id": "9b9829bb",
   "metadata": {},
   "outputs": [],
   "source": [
    "# Load the digits dataset\n",
    "digits = load_digits()\n",
    "\n",
    "# Features (pixel values of the images)\n",
    "X = digits.data\n",
    "\n",
    "# Labels (the digits)\n",
    "y = digits.target\n",
    "\n",
    "# Combine the data and labels into a DataFrame\n",
    "df = pd.DataFrame(X)\n",
    "df['label'] = y\n",
    "\n",
    "# Save as CSV\n",
    "df.to_csv('digits_numeric.csv', index=False, header=False)\n"
   ]
  },
  {
   "cell_type": "code",
   "execution_count": null,
   "id": "d0403634",
   "metadata": {},
   "outputs": [],
   "source": [
    "# Load the dataset from OpenML\n",
    "diabetes = fetch_openml(data_id=37, as_frame=True)  # data_id=37 for Pima Indian Diabetes\n",
    "\n",
    "# Convert to a DataFrame\n",
    "df = diabetes.frame\n",
    "\n",
    "# Encode classes as numbers\n",
    "le = LabelEncoder()\n",
    "df[\"class\"] = le.fit_transform(df[\"class\"])\n",
    "\n",
    "# Remove or round columns with inconvenient decimal places\n",
    "df.pop(\"pedi\")\n",
    "df[\"mass\"] = df[\"mass\"].round(0).astype(int)\n",
    "\n",
    "df.pop(\"skin\")\n",
    "df.pop(\"preg\")\n",
    "df.pop(\"pres\")\n",
    "\n",
    "# Save as CSV\n",
    "df.to_csv('diabetes_numeric.csv', index=False, header=False)\n"
   ]
  },
  {
   "cell_type": "code",
   "execution_count": null,
   "id": "b4a831ad",
   "metadata": {},
   "outputs": [],
   "source": [
    "# Load the dataset\n",
    "banknote = fetch_openml(data_id=1462, as_frame=True)  # Banknote dataset ID\n",
    "\n",
    "# Convert to DataFrame\n",
    "df = banknote.frame\n",
    "\n",
    "# Round to a uniform number of decimal places\n",
    "df[\"V1\"] = df[\"V1\"].round(1)\n",
    "df[\"V2\"] = df[\"V2\"].round(1)\n",
    "df[\"V3\"] = df[\"V3\"].round(1)\n",
    "df[\"V4\"] = df[\"V4\"].round(1)\n",
    "\n",
    "# Save as CSV\n",
    "df.to_csv('banknotes_numeric.csv', index=False, header=False)\n"
   ]
  }
 ],
 "metadata": {
  "language_info": {
   "name": "python"
  }
 },
 "nbformat": 4,
 "nbformat_minor": 5
}
