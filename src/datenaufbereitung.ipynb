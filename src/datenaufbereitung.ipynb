{
 "cells": [
  {
   "cell_type": "code",
   "execution_count": 6,
   "id": "1c3fe561",
   "metadata": {},
   "outputs": [],
   "source": [
    "import pandas as pd\n",
    "from sklearn.utils.extmath import weighted_mode\n",
    "import numpy as np\n",
    "from sklearn.preprocessing import LabelEncoder\n",
    "from sklearn.metrics import confusion_matrix, precision_recall_fscore_support\n",
    "from sklearn.model_selection import train_test_split\n",
    "import numpy as np\n",
    "import time\n",
    "from sklearn.datasets import load_digits\n",
    "from sklearn.datasets import fetch_openml\n",
    "from sklearn.model_selection import train_test_split\n",
    "from itertools import combinations\n",
    "import multiprocessing\n",
    "from joblib import Parallel, delayed"
   ]
  },
  {
   "cell_type": "code",
   "execution_count": 7,
   "id": "e13b5423",
   "metadata": {},
   "outputs": [],
   "source": [
    "\n",
    "\n",
    "# Load the data from the file\n",
    "df = pd.read_csv('iris.data', header=None)\n",
    "\n",
    "# Encode plant names as numbers\n",
    "le = LabelEncoder()\n",
    "df[4] = le.fit_transform(df[4])\n",
    "\n",
    "# Save as CSV\n",
    "df.to_csv('iris_numeric.csv', header=False, index=False)\n",
    "\n"
   ]
  },
  {
   "cell_type": "code",
   "execution_count": 8,
   "id": "9b9829bb",
   "metadata": {},
   "outputs": [],
   "source": [
    "# Load the digits dataset\n",
    "digits = load_digits()\n",
    "\n",
    "# Features (pixel values of the images)\n",
    "X = digits.data\n",
    "\n",
    "# Labels (the digits)\n",
    "y = digits.target\n",
    "\n",
    "# Combine the data and labels into a DataFrame\n",
    "df = pd.DataFrame(X)\n",
    "df['label'] = y\n",
    "\n",
    "# Save as CSV\n",
    "df.to_csv('digits_numeric.csv', index=False, header=False)\n"
   ]
  },
  {
   "cell_type": "code",
   "execution_count": 9,
   "id": "d0403634",
   "metadata": {},
   "outputs": [],
   "source": [
    "# Load the dataset from OpenML\n",
    "diabetes = fetch_openml(data_id=37, as_frame=True)  # data_id=37 for Pima Indian Diabetes\n",
    "\n",
    "# Convert to a DataFrame\n",
    "df = diabetes.frame\n",
    "\n",
    "# Encode classes as numbers\n",
    "le = LabelEncoder()\n",
    "df[\"class\"] = le.fit_transform(df[\"class\"])\n",
    "\n",
    "\n",
    "# Save as CSV\n",
    "df.to_csv('diabetes_numeric.csv', index=False, header=False)\n"
   ]
  },
  {
   "cell_type": "code",
   "execution_count": 10,
   "id": "b4a831ad",
   "metadata": {},
   "outputs": [],
   "source": [
    "# Load the dataset\n",
    "banknote = fetch_openml(data_id=1462, as_frame=True)  # Banknote dataset ID\n",
    "\n",
    "# Convert to DataFrame\n",
    "df = banknote.frame\n",
    "\n",
    "# Round to a uniform number of decimal places\n",
    "df[\"V1\"] = df[\"V1\"].round(1)\n",
    "df[\"V2\"] = df[\"V2\"].round(1)\n",
    "df[\"V3\"] = df[\"V3\"].round(1)\n",
    "df[\"V4\"] = df[\"V4\"].round(1)\n",
    "\n",
    "# Save as CSV\n",
    "df.to_csv('banknotes_numeric.csv', index=False, header=False)\n"
   ]
  },
  {
   "cell_type": "code",
   "execution_count": 7,
   "id": "6437af58",
   "metadata": {},
   "outputs": [
    {
     "name": "stdout",
     "output_type": "stream",
     "text": [
      "       0    1    2    3    4  5\n",
      "0   -1.9  0.9 -3.8  2.5 -0.4  0\n",
      "1   -3.8  1.8 -0.1 -0.8 -6.3  0\n",
      "2   -2.0  3.9  6.5  1.4 -1.8  0\n",
      "3   -1.8  1.5  3.3  1.2 -3.3  0\n",
      "4   -2.8  2.4  0.3  0.6 -2.5  0\n",
      "..   ...  ...  ...  ...  ... ..\n",
      "295 -4.5  7.2  1.4 -1.5 -3.3  2\n",
      "296  0.8  6.6  5.3  0.2 -3.2  2\n",
      "297 -1.2  2.8  4.6  0.5 -3.2  2\n",
      "298 -1.0  4.2 -3.6 -0.1 -2.8  2\n",
      "299 -4.6  1.1  1.7 -0.8 -4.6  2\n",
      "\n",
      "[300 rows x 6 columns]\n"
     ]
    }
   ],
   "source": [
    "import pandas as pd\n",
    "# Load the data from the file\n",
    "df = pd.read_csv('synthetic_5d_clusters.csv', header=None)\n",
    "\n",
    "# round to one decimal place\n",
    "df = df.round(decimals=1)\n",
    "\n",
    "print(df)\n",
    "\n",
    "# Save as CSV\n",
    "df.to_csv('synthetic_5d_clusters.csv', header=False, index=False)"
   ]
  },
  {
   "cell_type": "code",
   "execution_count": 6,
   "id": "8e2faad0",
   "metadata": {},
   "outputs": [
    {
     "name": "stdout",
     "output_type": "stream",
     "text": [
      "       0    1    2    3    4    5  6\n",
      "0   -4.2  1.6 -0.6  1.2 -3.9 -4.9  0\n",
      "1    2.2  2.3  1.5 -2.3 -3.2 -1.8  0\n",
      "2   -3.1  3.5  0.2  0.0 -3.3  1.6  0\n",
      "3   -0.8  0.6  3.0 -1.8 -1.6 -6.0  0\n",
      "4   -3.4  3.1  2.9  0.9 -2.3 -2.7  0\n",
      "..   ...  ...  ...  ...  ...  ... ..\n",
      "295  2.2 -4.6 -2.5 -3.4 -0.5  2.8  2\n",
      "296 -1.8 -1.5 -2.2 -0.6 -0.7 -1.4  2\n",
      "297  1.4 -3.3  0.2 -1.9  2.6  0.0  2\n",
      "298  0.6 -4.8 -5.5 -5.1 -0.6  1.2  2\n",
      "299 -1.2  0.1 -2.9 -1.6  2.0  1.9  2\n",
      "\n",
      "[300 rows x 7 columns]\n"
     ]
    }
   ],
   "source": [
    "import pandas as pd\n",
    "# Load the data from the file\n",
    "df = pd.read_csv('synthetic_6d_clusters.csv', header=None)\n",
    "\n",
    "# round to one decimal place\n",
    "df = df.round(decimals=1)\n",
    "\n",
    "print(df)\n",
    "\n",
    "# Save as CSV\n",
    "df.to_csv('synthetic_6d_clusters.csv', header=False, index=False)\n"
   ]
  }
 ],
 "metadata": {
  "kernelspec": {
   "display_name": "ml-env",
   "language": "python",
   "name": "python3"
  },
  "language_info": {
   "codemirror_mode": {
    "name": "ipython",
    "version": 3
   },
   "file_extension": ".py",
   "mimetype": "text/x-python",
   "name": "python",
   "nbconvert_exporter": "python",
   "pygments_lexer": "ipython3",
   "version": "3.12.10"
  }
 },
 "nbformat": 4,
 "nbformat_minor": 5
}
