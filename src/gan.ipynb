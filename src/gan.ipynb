{
 "cells": [
  {
   "cell_type": "markdown",
   "metadata": {},
   "source": [
    "# Generate Synthetic Iris-Data"
   ]
  },
  {
   "cell_type": "code",
   "execution_count": 1,
   "metadata": {},
   "outputs": [],
   "source": [
    "from sklearn.datasets import load_iris\n",
    "from sdv.single_table import CTGANSynthesizer\n",
    "from sdv.metadata import Metadata\n",
    "import pandas as pd\n"
   ]
  },
  {
   "cell_type": "code",
   "execution_count": 2,
   "metadata": {},
   "outputs": [
    {
     "name": "stdout",
     "output_type": "stream",
     "text": [
      "Trainiere Modell für Klasse 0...\n"
     ]
    },
    {
     "name": "stderr",
     "output_type": "stream",
     "text": [
      "c:\\Users\\svenr\\scoop\\persist\\miniconda3\\envs\\krn\\Lib\\site-packages\\sdv\\single_table\\base.py:128: UserWarning: We strongly recommend saving the metadata using 'save_to_json' for replicability in future SDV versions.\n",
      "  warnings.warn(\n"
     ]
    },
    {
     "name": "stdout",
     "output_type": "stream",
     "text": [
      "Trainiere Modell für Klasse 1...\n",
      "Trainiere Modell für Klasse 2...\n",
      "   sepal length (cm)  sepal width (cm)  petal length (cm)  petal width (cm)  \\\n",
      "0                5.1               4.0                1.4               0.2   \n",
      "1                5.2               3.5                1.5               0.2   \n",
      "2                4.9               3.5                1.5               0.3   \n",
      "3                4.7               3.8                1.5               0.3   \n",
      "4                5.5               3.6                1.5               0.2   \n",
      "\n",
      "  target  \n",
      "0      0  \n",
      "1      0  \n",
      "2      0  \n",
      "3      0  \n",
      "4      0  \n",
      "/nGesamtanzahl synthetischer Zeilen: 300000\n"
     ]
    }
   ],
   "source": [
    "\n",
    "\n",
    "# Iris-Daten laden\n",
    "iris = load_iris(as_frame=True)\n",
    "df = iris.frame\n",
    "df['target'] = df['target'].astype(str)  # Kategorisch\n",
    "\n",
    "# Parameter\n",
    "classes = df['target'].unique()\n",
    "samples_per_class = 100000\n",
    "\n",
    "# Metadaten einmal erzeugen\n",
    "metadata = Metadata.detect_from_dataframe(\n",
    "    data=df,\n",
    "    table_name='iris'\n",
    ")\n",
    "\n",
    "# Liste für alle synthetischen Teildatensätze\n",
    "all_synthetic = []\n",
    "\n",
    "# Für jede Klasse ein eigenes Modell trainieren\n",
    "for cls in classes:\n",
    "    print(f\"Trainiere Modell für Klasse {cls}...\")\n",
    "\n",
    "    df_cls = df[df['target'] == cls].copy()\n",
    "\n",
    "    # Synthesizer mit Metadata initialisieren\n",
    "    synthesizer = CTGANSynthesizer(metadata)\n",
    "    synthesizer.fit(df_cls)\n",
    "\n",
    "    # Neue Daten erzeugen\n",
    "    synthetic = synthesizer.sample(num_rows=samples_per_class)\n",
    "\n",
    "    # Zielklasse korrekt setzen (sicherstellen)\n",
    "    synthetic['target'] = cls\n",
    "\n",
    "    # Synthetische Daten speichern\n",
    "    all_synthetic.append(synthetic)\n",
    "\n",
    "# Alles zusammenführen\n",
    "synthetic_total = pd.concat(all_synthetic, ignore_index=True)\n",
    "\n",
    "# Ausgabe prüfen\n",
    "print(synthetic_total.head())\n",
    "print(f\"/nGesamtanzahl synthetischer Zeilen: {len(synthetic_total)}\")\n",
    "\n",
    "# In CSV-Datei speichern\n",
    "synthetic_total.to_csv('iris_synthetic.csv', header=False, index=False)\n"
   ]
  },
  {
   "cell_type": "markdown",
   "metadata": {},
   "source": [
    "\n",
    "![alt text](../img/gan-comparison/original-iris-means.png)\n",
    "![alt text](../img/gan-comparison/synthetic-iris-means.png)"
   ]
  }
 ],
 "metadata": {
  "kernelspec": {
   "display_name": "krn",
   "language": "python",
   "name": "python3"
  },
  "language_info": {
   "codemirror_mode": {
    "name": "ipython",
    "version": 3
   },
   "file_extension": ".py",
   "mimetype": "text/x-python",
   "name": "python",
   "nbconvert_exporter": "python",
   "pygments_lexer": "ipython3",
   "version": "3.12.11"
  }
 },
 "nbformat": 4,
 "nbformat_minor": 2
}
